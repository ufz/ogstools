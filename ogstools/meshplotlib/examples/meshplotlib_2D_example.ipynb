{
 "cells": [
  {
   "attachments": {},
   "cell_type": "markdown",
   "metadata": {},
   "source": [
    "# Visualizing 2D model data\n",
    "\n",
    "For this example we load a 2D meshseries dataset from within the `meshplotlib` examples.\n",
    "In the `meshplotlib.setup` we can provide a dictionary to map names to material ids.\n",
    "First, let's plot the material ids (cell_data). Per default in the setup, this\n",
    "will automatically show the element edges."
   ]
  },
  {
   "cell_type": "code",
   "execution_count": null,
   "metadata": {},
   "outputs": [],
   "source": [
    "import ogstools.meshplotlib as mpl\n",
    "from ogstools.propertylib import THM, ScalarProperty\n",
    "\n",
    "mpl.setup.reset()\n",
    "mpl.setup.length.output_unit = \"km\"\n",
    "mpl.setup.material_names = {i+1: f\"Layer {i+1}\" for i in range(26)}\n",
    "meshseries = mpl.MeshSeries(\"../../../ogstools/meshplotlib/examples/2D.pvd\")\n",
    "fig = mpl.plot(meshseries.read(0), property=THM.material_id)"
   ]
  },
  {
   "attachments": {},
   "cell_type": "markdown",
   "metadata": {},
   "source": [
    "Now, let's plot the temperature field at the first timestep.\n",
    "The default temperature property form the `propertylib` reads the temperature \n",
    "data as Kelvin and converts them to degrees Celsius."
   ]
  },
  {
   "cell_type": "code",
   "execution_count": null,
   "metadata": {},
   "outputs": [],
   "source": [
    "fig = mpl.plot(meshseries.read(1), property=THM.temperature)"
   ]
  },
  {
   "attachments": {},
   "cell_type": "markdown",
   "metadata": {},
   "source": [
    "This example has hydraulically deactivated subdomains:"
   ]
  },
  {
   "cell_type": "code",
   "execution_count": null,
   "metadata": {},
   "outputs": [],
   "source": [
    "\n",
    "fig = mpl.plot(meshseries.read(1), ScalarProperty(\n",
    "    data_name=\"pressure_active\", data_unit=\"\", \n",
    "    output_unit=\"\", output_name=\"hydraulics active\"))"
   ]
  },
  {
   "attachments": {},
   "cell_type": "markdown",
   "metadata": {},
   "source": [
    "Let's plot the fluid velocity field on the hydraulially active part of the model."
   ]
  },
  {
   "cell_type": "code",
   "execution_count": null,
   "metadata": {},
   "outputs": [],
   "source": [
    "fig = mpl.plot(meshseries.read(1).threshold((1,3), \"MaterialIDs\"), THM.velocity)\n"
   ]
  },
  {
   "attachments": {},
   "cell_type": "markdown",
   "metadata": {},
   "source": [
    "We can also plot components of vector property:"
   ]
  },
  {
   "cell_type": "code",
   "execution_count": null,
   "metadata": {},
   "outputs": [],
   "source": [
    "fig = mpl.plot(meshseries.read(1), THM.displacement.component(0))\n",
    "fig = mpl.plot(meshseries.read(1), THM.displacement.component(1))"
   ]
  },
  {
   "cell_type": "code",
   "execution_count": null,
   "metadata": {},
   "outputs": [],
   "source": []
  }
 ],
 "metadata": {
  "kernelspec": {
   "display_name": ".venv",
   "language": "python",
   "name": "python3"
  },
  "language_info": {
   "codemirror_mode": {
    "name": "ipython",
    "version": 3
   },
   "file_extension": ".py",
   "mimetype": "text/x-python",
   "name": "python",
   "nbconvert_exporter": "python",
   "pygments_lexer": "ipython3",
   "version": "3.10.6"
  }
 },
 "nbformat": 4,
 "nbformat_minor": 2
}
