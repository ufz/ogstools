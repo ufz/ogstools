{
 "cells": [
  {
   "cell_type": "markdown",
   "metadata": {},
   "source": [
    "# Convergence study\n",
    "\n",
    "This script performs a convergence study and generates plots to analyze the\n",
    "convergence of numerical simulations. Below are the custom parameters for this report."
   ]
  },
  {
   "cell_type": "code",
   "execution_count": null,
   "metadata": {
    "tags": [
     "parameters"
    ]
   },
   "outputs": [],
   "source": [
    "mesh_paths = None\n",
    "property_name = None"
   ]
  },
  {
   "cell_type": "markdown",
   "metadata": {},
   "source": [
    "Import required modules and setup plots."
   ]
  },
  {
   "cell_type": "code",
   "execution_count": null,
   "metadata": {},
   "outputs": [],
   "source": [
    "import pyvista as pv  # noqa: E402\n",
    "\n",
    "import ogstools.meshplotlib as mpl  # noqa: E402\n",
    "import ogstools.propertylib as ppl  # noqa: E402\n",
    "from ogstools.studies.convergence import (  # noqa: E402\n",
    "    convergence_metrics,\n",
    "    plot_convergence,\n",
    "    plot_convergence_errors,\n",
    "    richardson_extrapolation,\n",
    ")\n",
    "\n",
    "mpl.setup.reset()\n",
    "mpl.setup.show_element_edges = True\n",
    "mpl.setup.ax_aspect_ratio = 1"
   ]
  },
  {
   "cell_type": "markdown",
   "metadata": {},
   "source": [
    "Read the meshes, get Property object from property name, define topology and calculate Richardson extrapolation."
   ]
  },
  {
   "cell_type": "code",
   "execution_count": null,
   "metadata": {},
   "outputs": [],
   "source": [
    "meshes = [pv.read(mesh_path) for mesh_path in mesh_paths]\n",
    "mesh_property = ppl.THM.find_property(property_name)\n",
    "mesh_property.output_unit = \"\"\n",
    "mesh_property.data_unit = \"\"\n",
    "topology = meshes[-3]\n",
    "richardson = richardson_extrapolation(meshes, mesh_property, topology)"
   ]
  },
  {
   "cell_type": "markdown",
   "metadata": {},
   "source": [
    "Plotting the grid convergence."
   ]
  },
  {
   "cell_type": "code",
   "execution_count": null,
   "metadata": {},
   "outputs": [],
   "source": [
    "fig = mpl.plot(richardson, \"grid_convergence\")"
   ]
  },
  {
   "cell_type": "markdown",
   "metadata": {},
   "source": [
    "Plotting the 3 finest discretizations."
   ]
  },
  {
   "cell_type": "code",
   "execution_count": null,
   "metadata": {},
   "outputs": [],
   "source": [
    "fig = mpl.plot(meshes[-3:], mesh_property)"
   ]
  },
  {
   "cell_type": "markdown",
   "metadata": {},
   "source": [
    "Plotting the Richardson extrapolation."
   ]
  },
  {
   "cell_type": "code",
   "execution_count": null,
   "metadata": {},
   "outputs": [],
   "source": [
    "fig = mpl.plot(richardson, mesh_property)\n"
   ]
  },
  {
   "cell_type": "markdown",
   "metadata": {},
   "source": [
    "Table of convergence metrics."
   ]
  },
  {
   "cell_type": "code",
   "execution_count": null,
   "metadata": {},
   "outputs": [],
   "source": [
    "mpl.core.plt.rcdefaults()\n",
    "metrics = convergence_metrics(meshes, richardson, mesh_property)\n",
    "metrics.style.format(\"{:,.4g}\").hide()"
   ]
  },
  {
   "cell_type": "markdown",
   "metadata": {},
   "source": [
    "Absolute convergence metrics."
   ]
  },
  {
   "cell_type": "code",
   "execution_count": null,
   "metadata": {},
   "outputs": [],
   "source": [
    "fig = plot_convergence(metrics, mesh_property)"
   ]
  },
  {
   "cell_type": "markdown",
   "metadata": {},
   "source": [
    "Relative errors in loglog-scale."
   ]
  },
  {
   "cell_type": "code",
   "execution_count": null,
   "metadata": {},
   "outputs": [],
   "source": [
    "fig = plot_convergence_errors(metrics)"
   ]
  }
 ],
 "metadata": {
  "kernelspec": {
   "display_name": ".venv",
   "language": "python",
   "name": "python3"
  },
  "language_info": {
   "codemirror_mode": {
    "name": "ipython",
    "version": 3
   },
   "file_extension": ".py",
   "mimetype": "text/x-python",
   "name": "python",
   "nbconvert_exporter": "python",
   "pygments_lexer": "ipython3",
   "version": "3.10.12"
  }
 },
 "nbformat": 4,
 "nbformat_minor": 2
}
