{
 "cells": [
  {
   "attachments": {},
   "cell_type": "markdown",
   "metadata": {},
   "source": [
    "# Plotting nuclear waste heat over time"
   ]
  },
  {
   "attachments": {},
   "cell_type": "markdown",
   "metadata": {},
   "source": [
    "First, some minimal example usage:"
   ]
  },
  {
   "cell_type": "code",
   "execution_count": null,
   "metadata": {},
   "outputs": [],
   "source": [
    "import matplotlib.pyplot as plt\n",
    "import numpy as np\n",
    "\n",
    "import ogstools.physics.nuclearwasteheat as nuclear\n",
    "\n",
    "# units for user input and heat output\n",
    "nuclear.units.time = \"yrs\"  # default is s\n",
    "nuclear.units.power = \"kW\"  # default is W\n",
    "\n",
    "repo = nuclear.repo_2020_conservative\n",
    "print(\"Heat at start of deposition (1 nuclear waste bundle): \")\n",
    "print(f\"{0:6n} yrs: {repo.heat(t=0):10.1f} kW\")\n",
    "print(\"Heat after deposition complete (all nuclear waste bundles): \")\n",
    "print(f\"{repo.time_deposit:6n} yrs: {repo.heat(t=repo.time_deposit):10.1f} kW\")\n",
    "print(\"Heat for a timeseries: \")\n",
    "time = np.geomspace(1, 1e5, num=6)\n",
    "heat = repo.heat(t=time)\n",
    "print(*[f\"{t:6n} yrs: {q:10.1f} kW\" for t, q in zip(time, heat)], sep=\"\\n\")\n"
   ]
  },
  {
   "attachments": {},
   "cell_type": "markdown",
   "metadata": {},
   "source": [
    "Now for the plotting define the timeframe and heat models of interest. \n",
    "Also let's make a convenience function to format our plots."
   ]
  },
  {
   "cell_type": "code",
   "execution_count": null,
   "metadata": {},
   "outputs": [],
   "source": [
    "time = np.geomspace(1, 1e6, num=100)\n",
    "models = [model for model in nuclear.waste_types if \"2016\" not in model.name]\n",
    "ls = [\"-\", \"--\", \"-.\", \":\", (0, (1, 10))]\n",
    "\n",
    "\n",
    "def format_ax(ax: plt.Axes):\n",
    "    ax.set_xlabel(f\"time [{nuclear.units.time}]\")\n",
    "    ax.set_ylabel(f\"heat [{nuclear.units.power }]\")\n",
    "    ax.grid(True, which=\"major\", linestyle=\"-\")\n",
    "    ax.grid(True, which=\"minor\", linestyle=\"--\", alpha=0.2)\n",
    "    ax.legend()"
   ]
  },
  {
   "attachments": {},
   "cell_type": "markdown",
   "metadata": {},
   "source": [
    "Let's compare the heat timeseries of single containers of different nuclear waste types without interim storage or deposition taken into account (baseline=True)."
   ]
  },
  {
   "cell_type": "code",
   "execution_count": null,
   "metadata": {},
   "outputs": [],
   "source": [
    "fig, ax = plt.subplots(figsize=(8, 4))\n",
    "for model in models:\n",
    "    q = model.heat(time, baseline=True)\n",
    "    ax.loglog(time, q, label=model.name, lw=2.5)\n",
    "format_ax(ax)\n",
    "ax.set_ylim([1e-4, 5])\n",
    "plt.show()\n"
   ]
  },
  {
   "attachments": {},
   "cell_type": "markdown",
   "metadata": {},
   "source": [
    "The bumps in the curves stem from the different leading nuclides in the proxy model sequentially decaying to nothing. The leading nuclides don't \n",
    "necessarily represent actual physical nuclides, but they give a close match to the result of burn-off simulations. We can visualize the decay of the nuclides themselves as well:"
   ]
  },
  {
   "cell_type": "code",
   "execution_count": null,
   "metadata": {},
   "outputs": [],
   "source": [
    "fig, axs = plt.subplots(\n",
    "    nrows=int(0.5 + len(models) / 2), ncols=2, figsize=(16, 8), sharex=True\n",
    ")\n",
    "axs: list[plt.Axes] = np.reshape(axs, (-1))\n",
    "\n",
    "colors = plt.rcParams[\"axes.prop_cycle\"].by_key()[\"color\"]\n",
    "for ax, model, color in zip(axs, models, colors):\n",
    "    q = model.heat(time, baseline=True)\n",
    "    ax.loglog(time, q, label=model.name, lw=2.5, c=color)\n",
    "    for i in range(len(model.nuclide_powers)):\n",
    "        q = model.heat(time, baseline=True, ncl_id=i)\n",
    "        ax.loglog(time, q, label=f\"Nuclide {i}\", lw=1.5, c=color, ls=ls[i])\n",
    "    format_ax(ax)\n",
    "    ax.set_ylim([1e-4, 20])\n",
    "plt.show()"
   ]
  },
  {
   "attachments": {},
   "cell_type": "markdown",
   "metadata": {},
   "source": [
    "When taking the interim storage time and the time to fill the repository into account we get a linear increase of bundles adding to the total heat. Is is assumed, that each bundle has reached exactly the interim storage time at the moment it is deposited. Let's compare the different available repository models."
   ]
  },
  {
   "cell_type": "code",
   "execution_count": null,
   "metadata": {},
   "outputs": [],
   "source": [
    "fig, ax = plt.subplots(figsize=(8, 4))\n",
    "\n",
    "be_ha_heat = nuclear.repo_be_ha_2016.heat(time)\n",
    "dwr_heat = nuclear.repo_2020.heat(time)\n",
    "dwr_con_heat = nuclear.repo_2020_conservative.heat(time)\n",
    "ax.loglog(time, dwr_con_heat, \"k\", label=\"DWR-Mix conservative\", lw=2, ls=ls[0])\n",
    "ax.loglog(time, dwr_heat, \"k\", label=\"DWR-Mix + WWER + CSD\", lw=2, ls=ls[1])\n",
    "ax.loglog(time, be_ha_heat, \"k\", label=\"RK-BE + RK-HA\", lw=2, ls=ls[2])\n",
    "format_ax(ax)\n",
    "ax.set_ylim([9, 25000])\n",
    "plt.show()\n"
   ]
  },
  {
   "cell_type": "code",
   "execution_count": null,
   "metadata": {},
   "outputs": [],
   "source": [
    "fig, ax = plt.subplots(figsize=(8, 2))\n",
    "\n",
    "ax.loglog(time, dwr_con_heat, label=\"DWR-Mix\", lw=2, c=\"k\")\n",
    "for i in range(len(nuclear.repo_2020_conservative.waste[0].nuclide_powers)):\n",
    "    q = nuclear.repo_2020_conservative.heat(time, ncl_id=i)\n",
    "    ax.loglog(time, q, label=f\"Nuclide {i}\", lw=1.5, c=\"k\", ls=ls[i])\n",
    "format_ax(ax)\n",
    "ax.set_ylim([9, 25000])\n",
    "plt.show()"
   ]
  }
 ],
 "metadata": {
  "kernelspec": {
   "display_name": ".venv",
   "language": "python",
   "name": "python3"
  },
  "language_info": {
   "codemirror_mode": {
    "name": "ipython",
    "version": 3
   },
   "file_extension": ".py",
   "mimetype": "text/x-python",
   "name": "python",
   "nbconvert_exporter": "python",
   "pygments_lexer": "ipython3",
   "version": "3.10.6"
  }
 },
 "nbformat": 4,
 "nbformat_minor": 2
}
