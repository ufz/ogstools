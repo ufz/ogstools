{
 "cells": [
  {
   "attachments": {},
   "cell_type": "markdown",
   "metadata": {},
   "source": [
    "# Visualizing 3D model data\n",
    "\n",
    "For visualizing 3D data it might make sense to plot multiple views / slices.\n",
    "To create them we use `pyvista` as it provides all the necessary functionality.\n",
    "If we want to plot multiple meshes, they have to be in a 2D `numpy` array.\n",
    "The shape of this array determines the number of rows and columns in our plot.\n",
    "First, let's load 3D example data from `pyvista` and plot an isometric view of \n",
    "the only available dataset: \"facies\".\n"
   ]
  },
  {
   "cell_type": "code",
   "execution_count": null,
   "metadata": {},
   "outputs": [],
   "source": [
    "import numpy as np\n",
    "from pyvista import examples\n",
    "\n",
    "import ogstools.meshplotlib as mpl\n",
    "from ogstools.propertylib import ScalarProperty\n",
    "\n",
    "mpl.setup.reset()\n",
    "mesh = examples.load_channels()\n",
    "fig = mpl.plot(mesh, ScalarProperty(\"facies\"))"
   ]
  },
  {
   "attachments": {},
   "cell_type": "markdown",
   "metadata": {},
   "source": [
    "Now, let's create multiple slices along the z axis and plot them in a 2 by 2 grid."
   ]
  },
  {
   "cell_type": "code",
   "execution_count": null,
   "metadata": {},
   "outputs": [],
   "source": [
    "slices = np.reshape(list(mesh.slice_along_axis(n=4, axis=\"z\")), (2, 2))\n",
    "fig = mpl.plot(slices, ScalarProperty(\"facies\"))\n",
    "for ax, slice in zip(fig.axes, np.ravel(slices)):\n",
    "    ax.set_title(f\"z = {slice.center[2]:.1f} {mpl.setup.length.data_unit}\")\n"
   ]
  },
  {
   "attachments": {},
   "cell_type": "markdown",
   "metadata": {},
   "source": [
    "We can also slice along the y-axis and plot the meshes in one row."
   ]
  },
  {
   "cell_type": "code",
   "execution_count": null,
   "metadata": {},
   "outputs": [],
   "source": [
    "slices = np.reshape(mesh.slice_along_axis(n=3, axis=\"y\"), (1, -1))\n",
    "fig = mpl.plot(slices, ScalarProperty(\"facies\"))\n",
    "for ax, slice in zip(fig.axes, np.ravel(slices)):\n",
    "    ax.set_title(f\"y = {slice.center[1]:.1f} {mpl.setup.length.data_unit}\")"
   ]
  },
  {
   "attachments": {},
   "cell_type": "markdown",
   "metadata": {},
   "source": [
    "Arbitrary oriented slices are also possible. \n",
    "They get projected to the cardinal plane, from which they have the least rotational offset."
   ]
  },
  {
   "cell_type": "code",
   "execution_count": null,
   "metadata": {},
   "outputs": [],
   "source": [
    "fig = mpl.plot(mesh.slice([1, -2, 0]), ScalarProperty(\"facies\"))\n"
   ]
  },
  {
   "cell_type": "code",
   "execution_count": null,
   "metadata": {},
   "outputs": [],
   "source": []
  }
 ],
 "metadata": {
  "kernelspec": {
   "display_name": ".venv",
   "language": "python",
   "name": "python3"
  },
  "language_info": {
   "codemirror_mode": {
    "name": "ipython",
    "version": 3
   },
   "file_extension": ".py",
   "mimetype": "text/x-python",
   "name": "python",
   "nbconvert_exporter": "python",
   "pygments_lexer": "ipython3",
   "version": "3.10.6"
  }
 },
 "nbformat": 4,
 "nbformat_minor": 2
}
