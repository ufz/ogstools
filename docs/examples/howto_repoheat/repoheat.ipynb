{
 "cells": [
  {
   "attachments": {},
   "cell_type": "markdown",
   "metadata": {},
   "source": [
    "# Plotting nuclear waste heat over time\n",
    "\n",
    "First, import the necessary packages and define the timeframe and heat models of interest. \n",
    "Also let's make a convenience function to format our plots."
   ]
  },
  {
   "cell_type": "code",
   "execution_count": null,
   "metadata": {},
   "outputs": [],
   "source": [
    "import matplotlib.pyplot as plt\n",
    "import numpy as np\n",
    "\n",
    "import ogstools.repoheat as repo\n",
    "\n",
    "repo.units.time = \"yrs\"\n",
    "repo.units.power = \"kW\"\n",
    "time = np.geomspace(1, 1e6, num=100)\n",
    "models = [m for m in repo.models if \"2012\" in m.name or \"2020\" in m.name]\n",
    "ls = [\"-\", \"--\", \"-.\", \":\", (0, (1, 10))]\n",
    "\n",
    "\n",
    "def format_ax(ax: plt.Axes):\n",
    "    ax.set_xlabel(f\"time [{repo.units.time}]\")\n",
    "    ax.set_ylabel(f\"heat [{repo.units.power }]\")\n",
    "    ax.grid(True, which=\"major\", linestyle=\"-\")\n",
    "    ax.grid(True, which=\"minor\", linestyle=\"--\", alpha=0.2)\n",
    "    ax.legend()"
   ]
  },
  {
   "attachments": {},
   "cell_type": "markdown",
   "metadata": {},
   "source": [
    "Now, let's compare the heat timeseries of different nuclear waste types:"
   ]
  },
  {
   "cell_type": "code",
   "execution_count": null,
   "metadata": {},
   "outputs": [],
   "source": [
    "fig, ax = plt.subplots(figsize=(8, 4))\n",
    "for model in models:\n",
    "    q = model.heat(time, baseline=True)\n",
    "    ax.loglog(time, q, label=model.name, lw=2.5)\n",
    "format_ax(ax)\n",
    "ax.set_ylim([1e-4, 5])\n",
    "plt.show()\n"
   ]
  },
  {
   "attachments": {},
   "cell_type": "markdown",
   "metadata": {},
   "source": [
    "The bumps in the curves stem from the different leading nuclides in the \n",
    "proxy model sequentially decaying to nothing. The leading nuclides don't \n",
    "necessarily represent actual physical nuclides, but they give a close match\n",
    "to the result of burn-off simulations."
   ]
  },
  {
   "cell_type": "code",
   "execution_count": null,
   "metadata": {},
   "outputs": [],
   "source": [
    "fig, axs = plt.subplots(\n",
    "    nrows=int(0.5 + len(models) / 2), ncols=2, figsize=(16, 8), sharex=True\n",
    ")\n",
    "axs: list[plt.Axes] = np.reshape(axs, (-1))\n",
    "\n",
    "colors = plt.rcParams[\"axes.prop_cycle\"].by_key()[\"color\"]\n",
    "for ax, model, color in zip(axs, models, colors):\n",
    "    q = model.heat(time, baseline=True)\n",
    "    ax.loglog(time, q, label=model.name, lw=2.5, c=color)\n",
    "    for i in range(len(model.nuclide_powers)):\n",
    "        q = model.heat(time, baseline=True, ncl_id=i)\n",
    "        ax.loglog(time, q, label=f\"Nuclide {i}\", lw=1.5, c=color, ls=ls[i])\n",
    "    format_ax(ax)\n",
    "    ax.set_ylim([1e-4, 20])\n",
    "plt.show()\n"
   ]
  },
  {
   "attachments": {},
   "cell_type": "markdown",
   "metadata": {},
   "source": [
    "We can create a heat model for a whole repository, by providing a proxy model,\n",
    "a number of waste containers, the interim storage time and the time to fill\n",
    "the repository. Let's compare a model which decays quickly (RK-BE + RK-HA) to\n",
    "one which still releases a significant amount of heat after a million years \n",
    "(DWR-Mix)."
   ]
  },
  {
   "cell_type": "code",
   "execution_count": null,
   "metadata": {},
   "outputs": [],
   "source": [
    "fig, ax = plt.subplots(figsize=(8, 4))\n",
    "\n",
    "be_ha_heat = repo.repo_be_ha_2016.heat(time)\n",
    "dwr_heat = repo.repo_2020_conservative.heat(time)\n",
    "ax.loglog(time, be_ha_heat, label=\"RK-BE + RK-HA\", lw=2.5, c=\"red\")\n",
    "ax.loglog(time, dwr_heat, label=\"DWR-Mix\", lw=2.5, c=\"green\")\n",
    "format_ax(ax)\n",
    "ax.set_ylim([9, 25000])\n",
    "plt.show()"
   ]
  },
  {
   "cell_type": "code",
   "execution_count": null,
   "metadata": {},
   "outputs": [],
   "source": [
    "fig, ax = plt.subplots(figsize=(8, 2))\n",
    "\n",
    "ax.loglog(time, dwr_heat, label=\"DWR-Mix\", lw=2.5, c=\"k\")\n",
    "for i in range(len(repo.repo_2020_conservative.waste[0].nuclide_powers)):\n",
    "    q = repo.repo_2020_conservative.heat(time, ncl_id=i)\n",
    "    ax.loglog(time, q, label=f\"Nuclide {i}\", lw=1.5, c=\"k\", ls=ls[i])\n",
    "format_ax(ax)\n",
    "ax.set_ylim([9, 25000])\n",
    "plt.show()\n"
   ]
  },
  {
   "cell_type": "code",
   "execution_count": null,
   "metadata": {},
   "outputs": [],
   "source": []
  }
 ],
 "metadata": {
  "kernelspec": {
   "display_name": ".venv",
   "language": "python",
   "name": "python3"
  },
  "language_info": {
   "codemirror_mode": {
    "name": "ipython",
    "version": 3
   },
   "file_extension": ".py",
   "mimetype": "text/x-python",
   "name": "python",
   "nbconvert_exporter": "python",
   "pygments_lexer": "ipython3",
   "version": "3.10.6"
  }
 },
 "nbformat": 4,
 "nbformat_minor": 2
}
