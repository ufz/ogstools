{
 "cells": [
  {
   "cell_type": "code",
   "execution_count": null,
   "metadata": {},
   "outputs": [],
   "source": [
    "from copy import deepcopy\n",
    "\n",
    "import matplotlib.pyplot as plt\n",
    "import numpy as np\n",
    "import pyvista as pv\n",
    "from matplotlib.ticker import FormatStrFormatter\n",
    "\n",
    "from ogstools.propertylib import MatrixProperty, VectorProperty, defaults\n",
    "\n",
    "pvds = [\"\", \"\"]\n",
    "params = [defaults.temperature]\n",
    "\n",
    "ts = 100\n",
    "timeseries = pv.PVDReader(pvds[0])\n",
    "timeseries.set_active_time_point(ts)\n",
    "mesh0 = timeseries.read()[0]\n",
    "meshes = []\n",
    "e_lengths = []\n",
    "for pvd in pvds:\n",
    "    mesh_temp = deepcopy(mesh0)\n",
    "    timeseries = pv.PVDReader(pvd)\n",
    "    timeseries.set_active_time_point(ts)\n",
    "    mesh = timeseries.read()[0]\n",
    "    mesh_temp = mesh_temp.sample(mesh, pass_cell_data=False)\n",
    "    e_lengths += [np.mean(np.sqrt(mesh.compute_cell_sizes().cell_data[\"Area\"]))]\n",
    "    meshes += [mesh_temp]"
   ]
  },
  {
   "cell_type": "code",
   "execution_count": null,
   "metadata": {},
   "outputs": [],
   "source": [
    "rich_ex = deepcopy(meshes[0])\n",
    "r = 2  # refinement ratio\n",
    "for param in params:\n",
    "    f1 = meshes[-1].point_data[param.data_name]\n",
    "    f2 = meshes[-2].point_data[param.data_name]\n",
    "    rich_ex.point_data[param.data_name] = f1 + (f1 - f2) / (r * r - 1)"
   ]
  },
  {
   "cell_type": "code",
   "execution_count": null,
   "metadata": {},
   "outputs": [],
   "source": [
    "for param in params:\n",
    "    _p_val = (\n",
    "        param.magnitude\n",
    "        if isinstance(param, (VectorProperty, MatrixProperty))\n",
    "        else param\n",
    "    )\n",
    "    err = [\n",
    "        np.linalg.norm(\n",
    "            _p_val.values(rich_ex.point_data[param.data_name])\n",
    "            - _p_val.values(mesh.point_data[param.data_name]),\n",
    "            axis=0,\n",
    "            ord=2,\n",
    "        )\n",
    "        / np.linalg.norm(\n",
    "            _p_val.values(rich_ex.point_data[param.data_name]),\n",
    "            axis=0,\n",
    "            ord=2,\n",
    "        )\n",
    "        for mesh in meshes\n",
    "    ]\n",
    "    print(max(_p_val.values(rich_ex.point_data[param.data_name])))\n",
    "    # https://www.sd.rub.de/downloads/Convergence_FEM.pdf\n",
    "    fig, ax = plt.subplots(dpi=200, figsize=[7, 2.5], facecolor=\"white\")\n",
    "    ax.loglog(e_lengths, err, \"-o\")\n",
    "    p1 = [(err[0] / e_lengths[0]) * el**1 for el in e_lengths]\n",
    "    ax.loglog(e_lengths, p1, \"--\", c=\"k\")\n",
    "    p2 = [(err[0] / e_lengths[0] ** 2) * el**2 for el in e_lengths]\n",
    "    ax.loglog(e_lengths, p2, \":\", c=\"k\")\n",
    "    # ax.set_title(title, loc=\"center\", y=1.02)\n",
    "    ax.set_xlabel(\"mean element length / m\")\n",
    "    ax.set_ylabel(f\"{param.output_name} error / -\")\n",
    "    ax.legend([\"L2 Norm\", \"p=1\", \"p=2\"])\n",
    "    ax.grid(True, \"major\", \"both\", alpha=0.5)\n",
    "    ax.grid(True, \"minor\", \"both\", alpha=0.1)\n",
    "\n",
    "    ax.xaxis.set_minor_formatter(FormatStrFormatter(\"%.0f\"))\n",
    "    ax.xaxis.set_major_formatter(FormatStrFormatter(\"%.0f\"))\n",
    "\n",
    "    # x_ticks = range(len(labels[:-1]))\n",
    "    # x_tick_labels = [l.replace(\", \", \"\\n\") for l in labels[:-1]]\n",
    "    # ax.set_xticks(x_ticks, x_tick_labels, fontsize=7)\n",
    "\n",
    "    plt.tight_layout()\n",
    "    # plt.savefig(fig_path + f\"Convergence_{param.output_name}\")\n",
    "    plt.show()\n",
    "    plt.close()\n",
    "    fig = None"
   ]
  },
  {
   "cell_type": "code",
   "execution_count": null,
   "metadata": {},
   "outputs": [],
   "source": []
  }
 ],
 "metadata": {
  "kernelspec": {
   "display_name": ".venv",
   "language": "python",
   "name": "python3"
  },
  "language_info": {
   "codemirror_mode": {
    "name": "ipython",
    "version": 3
   },
   "file_extension": ".py",
   "mimetype": "text/x-python",
   "name": "python",
   "nbconvert_exporter": "python",
   "pygments_lexer": "ipython3",
   "version": "3.10.6"
  }
 },
 "nbformat": 4,
 "nbformat_minor": 2
}
